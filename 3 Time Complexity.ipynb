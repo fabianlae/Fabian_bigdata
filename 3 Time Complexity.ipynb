{
 "cells": [
  {
   "cell_type": "code",
   "execution_count": 1,
   "metadata": {
    "collapsed": true
   },
   "outputs": [],
   "source": [
    "# import symbolic capability to Python\n",
    "from sympy import *\n",
    "from sympy.abc import *\n",
    "from sympy.plotting import plot\n",
    "from IPython.display import display\n",
    "# print things all pretty\n",
    "init_printing()"
   ]
  },
  {
   "cell_type": "markdown",
   "metadata": {},
   "source": [
    "# Size of the problem: n "
   ]
  },
  {
   "cell_type": "code",
   "execution_count": 2,
   "metadata": {
    "collapsed": true
   },
   "outputs": [],
   "source": [
    "n = symbols(\"n\", positive=True, real=True)"
   ]
  },
  {
   "cell_type": "markdown",
   "metadata": {},
   "source": [
    "# Different Functions f with different Time complexity"
   ]
  },
  {
   "cell_type": "code",
   "execution_count": 3,
   "metadata": {
    "collapsed": true
   },
   "outputs": [],
   "source": [
    "f_constant = 20\n",
    "f_linear = 4 * n + 10\n",
    "f_linear2 = 10 * n +1\n",
    "f_quadratic = 1/4 * n**2 + 1/2*n +1 \n",
    "f_quadratic2 = 1/8 * n**2 "
   ]
  },
  {
   "cell_type": "markdown",
   "metadata": {},
   "source": [
    "# Definition of Order of Growth (O) (\"Big O\")\n",
    "\n",
    "Order of growth (O) is a set of functions whose asymptotic growth behavior is considered equivalent:\n",
    "\n",
    "Two functions f(n) and g(n) have the equivalent order of growth if $\\displaystyle \\lim_{n \\rightarrow \\infty} \\frac{f(n)}{g(n)} = c$ with $c > 0$ and $c < \\infty $.\n",
    "\n",
    "\n",
    "f(n) has a higher order of growth than g(n) if\n",
    "$\\displaystyle \\lim_{n \\rightarrow \\infty} \\frac{f(n)}{g(n)} = \\infty $.\n",
    "\n",
    "f(n) has a smaller order of growth than g(n) if $\\displaystyle \\lim_{n \\rightarrow \\infty} \\frac{f(n)}{g(n)} = 0 $.\n",
    "\n",
    "$f(n) \\in O(g(n))$ if $\\displaystyle \\lim_{n \\rightarrow \\infty} \\frac{f(n)}{g(n)} = c$ with $c < \\infty $."
   ]
  },
  {
   "cell_type": "markdown",
   "metadata": {},
   "source": [
    "# Test Order of Growth with the Sympy limit function"
   ]
  },
  {
   "cell_type": "code",
   "execution_count": 4,
   "metadata": {},
   "outputs": [
    {
     "data": {
      "image/png": "[encoded data removed]",
      "text/latex": [
       "$$2.0$$"
      ],
      "text/plain": [
       "2.00000000000000"
      ]
     },
     "execution_count": 4,
     "metadata": {},
     "output_type": "execute_result"
    }
   ],
   "source": [
    "limit(f_quadratic / f_quadratic2, n, oo)"
   ]
  },
  {
   "cell_type": "code",
   "execution_count": 80,
   "metadata": {},
   "outputs": [
    {
     "data": {
      "image/png": "[encoded data removed]",
      "text/latex": [
       "$$\\infty$$"
      ],
      "text/plain": [
       "∞"
      ]
     },
     "execution_count": 80,
     "metadata": {},
     "output_type": "execute_result"
    }
   ],
   "source": [
    "limit(f_quadratic / f_linear, n, oo)"
   ]
  },
  {
   "cell_type": "code",
   "execution_count": 16,
   "metadata": {},
   "outputs": [
    {
     "data": {
      "image/png": "[encoded data removed]",
      "text/latex": [
       "$$0$$"
      ],
      "text/plain": [
       "0"
      ]
     },
     "execution_count": 16,
     "metadata": {},
     "output_type": "execute_result"
    }
   ],
   "source": [
    "limit( f_linear2 / f_quadratic2, n, oo)"
   ]
  },
  {
   "cell_type": "markdown",
   "metadata": {},
   "source": [
    "# Plotting Time Complexity"
   ]
  },
  {
   "cell_type": "code",
   "execution_count": 23,
   "metadata": {},
   "outputs": [
    {
     "data": {
      "image/png": "[encoded data removed]",
      "text/plain": [
       "<Figure size 432x288 with 1 Axes>"
      ]
     },
     "metadata": {
      "needs_background": "light"
     },
     "output_type": "display_data"
    }
   ],
   "source": [
    "expr_range = (n,0,30)\n",
    "p = plot(\n",
    "    f_constant,\n",
    "    f_linear,\n",
    "    f_quadratic,\n",
    "    expr_range,\n",
    "    show = False,\n",
    "    legend = True\n",
    ");\n",
    "\n",
    "p[0].line_color = 'g'\n",
    "p[1].line_color = 'b'\n",
    "p[2].line_color = 'r'\n",
    "\n",
    "\n",
    "\n",
    "p[0].label = 'constant'\n",
    "p[1].label = 'linear'\n",
    "p[2].label = 'quadratic'\n",
    "\n",
    "p.show()"
   ]
  },
  {
   "cell_type": "markdown",
   "metadata": {},
   "source": [
    "# Crossover point"
   ]
  },
  {
   "cell_type": "code",
   "execution_count": 81,
   "metadata": {},
   "outputs": [
    {
     "data": {
      "image/png": "[encoded data removed]",
      "text/latex": [
       "$$0.25 n^{2} + 0.5 n + 1 = 4 n + 10$$"
      ],
      "text/plain": [
       "      2                       \n",
       "0.25⋅n  + 0.5⋅n + 1 = 4⋅n + 10"
      ]
     },
     "execution_count": 81,
     "metadata": {},
     "output_type": "execute_result"
    }
   ],
   "source": [
    "e1 = Eq(f_quadratic, f_linear)\n",
    "e1"
   ]
  },
  {
   "cell_type": "code",
   "execution_count": 82,
   "metadata": {},
   "outputs": [
    {
     "data": {
      "image/png": "[encoded data removed]",
      "text/latex": [
       "$$\\left [ 16.2195444572929\\right ]$$"
      ],
      "text/plain": [
       "[16.2195444572929]"
      ]
     },
     "execution_count": 82,
     "metadata": {},
     "output_type": "execute_result"
    }
   ],
   "source": [
    "solve(e1, n)"
   ]
  },
  {
   "cell_type": "code",
   "execution_count": 83,
   "metadata": {},
   "outputs": [
    {
     "data": {
      "image/png": "[encoded data removed]",
      "text/latex": [
       "$$16.2195$$"
      ],
      "text/plain": [
       "16.2195"
      ]
     },
     "execution_count": 83,
     "metadata": {},
     "output_type": "execute_result"
    }
   ],
   "source": [
    "solve(e1, n)[0].evalf(6)"
   ]
  },
  {
   "cell_type": "markdown",
   "metadata": {},
   "source": [
    "# Todo"
   ]
  },
  {
   "cell_type": "code",
   "execution_count": 5,
   "metadata": {
    "collapsed": true
   },
   "outputs": [],
   "source": [
    "from math import factorial as fac\n",
    "# TODO: Define \n",
    "# - a logarithmic function\n",
    "f_log = 2*log(n)+3\n",
    "# - a log-linear (n log n) function\n",
    "f_loglin = 0.5*n*log(2*n)+5\n",
    "# - a cubic function\n",
    "f_cubic = 5*n**3+2*n**2+6\n",
    "# - an exponential function\n",
    "f_expo = 2**n+7\n",
    "# - a factorial function\n",
    "f_fact = 1.5*factorial(n)"
   ]
  },
  {
   "cell_type": "code",
   "execution_count": 11,
   "metadata": {
    "collapsed": true
   },
   "outputs": [
    {
     "data": {
      "image/png": "[encoded data removed]",
      "text/plain": [
       "<Figure size 432x288 with 1 Axes>"
      ]
     },
     "metadata": {
      "needs_background": "light"
     },
     "output_type": "display_data"
    }
   ],
   "source": [
    "# TODO create multiple plots with different combinations of functions\n",
    "expr_range = (n,0,30)\n",
    "p = plot(\n",
    "    f_log,\n",
    "    f_loglin,\n",
    "    #f_cubic,\n",
    "    show = False,\n",
    "    legend = True\n",
    ");\n",
    "\n",
    "p[0].line_color = 'g'\n",
    "p[1].line_color = 'b'\n",
    "#p[2].line_color = 'r'\n",
    "\n",
    "p[0].label = 'logarithmic'\n",
    "p[1].label = 'logarithmic-linear'\n",
    "#p[2].label = 'cubic'\n",
    "\n",
    "p.show()"
   ]
  },
  {
   "cell_type": "code",
   "execution_count": 29,
   "metadata": {},
   "outputs": [
    {
     "data": {
      "image/png": "[encoded data removed]",
      "text/plain": [
       "<Figure size 432x288 with 1 Axes>"
      ]
     },
     "metadata": {
      "needs_background": "light"
     },
     "output_type": "display_data"
    }
   ],
   "source": [
    "expr_range = (n,0,40)\n",
    "p = plot(\n",
    "    f_cubic,\n",
    "    f_expo,\n",
    "    show = False,\n",
    "    legend = True\n",
    ");\n",
    "\n",
    "p[0].line_color = 'r'\n",
    "p[1].line_color = 'b'\n",
    "\n",
    "p[0].label = 'cubic'\n",
    "p[1].label = 'exponential'\n",
    "\n",
    "p.show()"
   ]
  },
  {
   "cell_type": "code",
   "execution_count": 25,
   "metadata": {},
   "outputs": [
    {
     "data": {
      "image/png": "[encoded data removed]",
      "text/plain": [
       "<Figure size 432x288 with 1 Axes>"
      ]
     },
     "metadata": {
      "needs_background": "light"
     },
     "output_type": "display_data"
    }
   ],
   "source": [
    "expr_range = (n,0,10)\n",
    "p = plot(\n",
    "    f_fact,\n",
    "    expr_range,\n",
    "    show = False,\n",
    "    legend = True\n",
    ");\n",
    "\n",
    "p[0].line_color = 'r'\n",
    "\n",
    "p[0].label = 'factorial'\n",
    "\n",
    "p.show()"
   ]
  },
  {
   "cell_type": "code",
   "execution_count": 23,
   "metadata": {
    "collapsed": true
   },
   "outputs": [
    {
     "data": {
      "image/png": "[encoded data removed]",
      "text/plain": [
       "<Figure size 432x288 with 1 Axes>"
      ]
     },
     "metadata": {
      "needs_background": "light"
     },
     "output_type": "display_data"
    }
   ],
   "source": [
    "# TODO create a log-log plot with your factorial, exponential, quadratic, log-linear, and linear function\n",
    "expr_range = (n,0,20)\n",
    "p = plot(\n",
    "    f_log,\n",
    "    f_loglin,\n",
    "    f_cubic,\n",
    "    f_expo,\n",
    "    f_fact,\n",
    "    expr_range,\n",
    "    #f_fact,\n",
    "    show = False,\n",
    "    legend = True,\n",
    "    xscale = 'log',\n",
    "    yscale = 'log',\n",
    "#     xlim = {0.01, 10},\n",
    "#     ylim = {15, 5000}\n",
    "    #autoscale = False\n",
    ");\n",
    "\n",
    "p[0].line_color = 'g'\n",
    "p[1].line_color = 'b'\n",
    "p[2].line_color = 'r'\n",
    "p[3].line_color = 'y'\n",
    "\n",
    "p[0].label = 'logarithmic'\n",
    "p[1].label = 'logarithmic-linear'\n",
    "p[2].label = 'cubic'\n",
    "p[3].label = 'exponential'\n",
    "p[4].label = 'functional'\n",
    "\n",
    "p.show()"
   ]
  },
  {
   "cell_type": "code",
   "execution_count": 16,
   "metadata": {
    "collapsed": true
   },
   "outputs": [
    {
     "data": {
      "image/png": "[encoded data removed]",
      "text/latex": [
       "$$2^{n} + 7 = 5 n^{3} + 2 n^{2} + 6$$"
      ],
      "text/plain": [
       " n          3      2    \n",
       "2  + 7 = 5⋅n  + 2⋅n  + 6"
      ]
     },
     "execution_count": 16,
     "metadata": {},
     "output_type": "execute_result"
    }
   ],
   "source": [
    "# TODO Calculate one crossover point for two functions\n",
    "e2 = Eq(f_expo, f_cubic)\n",
    "e2\n",
    "#solve(e2,n) #No algorithms are implemented to solve equation"
   ]
  }
 ],
 "metadata": {
  "kernelspec": {
   "display_name": "Python 3",
   "language": "python",
   "name": "python3"
  },
  "language_info": {
   "codemirror_mode": {
    "name": "ipython",
    "version": 3
   },
   "file_extension": ".py",
   "mimetype": "text/x-python",
   "name": "python",
   "nbconvert_exporter": "python",
   "pygments_lexer": "ipython3",
   "version": "3.7.1"
  },
  "varInspector": {
   "cols": {
    "lenName": 16,
    "lenType": 16,
    "lenVar": 40
   },
   "kernels_config": {
    "python": {
     "delete_cmd_postfix": "",
     "delete_cmd_prefix": "del ",
     "library": "var_list.py",
     "varRefreshCmd": "print(var_dic_list())"
    },
    "r": {
     "delete_cmd_postfix": ") ",
     "delete_cmd_prefix": "rm(",
     "library": "var_list.r",
     "varRefreshCmd": "cat(var_dic_list()) "
    }
   },
   "types_to_exclude": [
    "module",
    "function",
    "builtin_function_or_method",
    "instance",
    "_Feature"
   ],
   "window_display": false
  }
 },
 "nbformat": 4,
 "nbformat_minor": 2
}
