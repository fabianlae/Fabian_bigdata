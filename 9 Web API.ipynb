{
 "cells": [
  {
   "cell_type": "markdown",
   "metadata": {},
   "source": [
    "# Web APIs\n",
    "\n",
    "## 1. Consuming Web APIs\n",
    "\n",
    "(Partially adapted from https://www.dataquest.io/blog/python-api-tutorial/)\n",
    "\n",
    "* https://randomuser.me/ is a random user generator \n",
    "*\tIt has an API. Go to https://api.randomuser.me/ with your browser\n",
    "*\tYou get a JSON (JavaScript Object Notation) back. A JSON is similar to a Python dictionary.  \n",
    "*  Refresh the browser\n",
    "*\tYou can add query parameters. They are added to the URL with a ? . You then add then the parameter name = the value. More the one parameter are connected with a & e.g.\n",
    "\thttp://api.open-notify.org/iss-pass.json?lat=37.78&lon=-122.41\n",
    "\n",
    "*\t Go the documentation https://randomuser.me/documentation and check how you can get multiple users and to specify constraints on the output\n",
    "*\tGo to your browser and add parameters to https://api.randomuser.me/ so that you get 5 results of only males from the US\n",
    "\n",
    "Enter the URL of your solution:"
   ]
  },
  {
   "cell_type": "code",
   "execution_count": 3,
   "metadata": {
    "collapsed": true
   },
   "outputs": [
    {
     "data": {
      "text/plain": [
       "'https://api.randomuser.me/?results=5&gender=male&nat=us'"
      ]
     },
     "execution_count": 3,
     "metadata": {},
     "output_type": "execute_result"
    }
   ],
   "source": [
    "# TODO: get 5 results of only males from the US\n",
    "# Enter the URL of your solution:\n",
    "url = \"https://api.randomuser.me/?results=5&gender=male&nat=us\""
   ]
  },
  {
   "cell_type": "markdown",
   "metadata": {},
   "source": [
    "* You can also get the data from the command line. Open the command line and write\n",
    "\n",
    "```bash\n",
    "curl -s https://api.randomuser.me/\n",
    "```\n",
    "\n",
    "You can also run Bash commands directly in your Jupyter Notebook with !:"
   ]
  },
  {
   "cell_type": "code",
   "execution_count": 4,
   "metadata": {
    "collapsed": true
   },
   "outputs": [
    {
     "name": "stdout",
     "output_type": "stream",
     "text": [
      "{\"results\":[{\"gender\":\"female\",\"name\":{\"title\":\"mrs\",\"first\":\"begoÃ±a\",\"last\":\"mora\"},\"location\":{\"street\":\"4239 calle de toledo\",\"city\":\"granada\",\"state\":\"comunidad de madrid\",\"postcode\":63281,\"coordinates\":{\"latitude\":\"-16.9949\",\"longitude\":\"95.4035\"},\"timezone\":{\"offset\":\"+4:30\",\"description\":\"Kabul\"}},\"email\":\"begoÃ±a.mora@example.com\",\"login\":{\"uuid\":\"297a6a58-998c-4a16-a332-82548912daed\",\"username\":\"blackleopard235\",\"password\":\"clarke\",\"salt\":\"KIVPez4o\",\"md5\":\"51fcb8a77ce15e23afbe3fa4b86da265\",\"sha1\":\"61fa6be877d1d65d470a3f54bbccea12c5c7334b\",\"sha256\":\"1d82c7f89f5a0f762044883f1038788c32da2ca71b45524c8c7c4b0469c09e8a\"},\"dob\":{\"date\":\"1962-12-05T18:26:48Z\",\"age\":56},\"registered\":{\"date\":\"2006-04-16T11:26:41Z\",\"age\":13},\"phone\":\"950-186-989\",\"cell\":\"626-891-173\",\"id\":{\"name\":\"DNI\",\"value\":\"30610823-Y\"},\"picture\":{\"large\":\"https://randomuser.me/api/portraits/women/50.jpg\",\"medium\":\"https://randomuser.me/api/portraits/med/women/50.jpg\",\"thumbnail\":\"https://randomuser.me/api/portraits/thumb/women/50.jpg\"},\"nat\":\"ES\"}],\"info\":{\"seed\":\"a2c940173553d7a6\",\"results\":1,\"page\":1,\"version\":\"1.2\"}}\n"
     ]
    }
   ],
   "source": [
    "!curl -s https://api.randomuser.me/"
   ]
  },
  {
   "cell_type": "markdown",
   "metadata": {},
   "source": [
    "* Import the two libraries \n",
    "    * `requests` and \n",
    "    * `json`. \n",
    "\n",
    "You can find the documentation for the requests package here:\n",
    " http://www.python-requests.org/en/latest/ \n",
    " "
   ]
  },
  {
   "cell_type": "code",
   "execution_count": 5,
   "metadata": {
    "collapsed": true
   },
   "outputs": [],
   "source": [
    "import requests\n",
    "import json"
   ]
  },
  {
   "cell_type": "markdown",
   "metadata": {},
   "source": [
    "* With the requests package you can call a Web API with the URL and the method get"
   ]
  },
  {
   "cell_type": "code",
   "execution_count": 6,
   "metadata": {
    "collapsed": true
   },
   "outputs": [],
   "source": [
    "response = requests.get(\"https://api.randomuser.me/\")"
   ]
  },
  {
   "cell_type": "markdown",
   "metadata": {},
   "source": [
    "* Print the status code of the request"
   ]
  },
  {
   "cell_type": "code",
   "execution_count": 7,
   "metadata": {
    "collapsed": true
   },
   "outputs": [
    {
     "name": "stdout",
     "output_type": "stream",
     "text": [
      "200\n"
     ]
    }
   ],
   "source": [
    "print(response.status_code)"
   ]
  },
  {
   "cell_type": "markdown",
   "metadata": {},
   "source": [
    "**The meaning of the status codes are:**\n",
    "* 200: everything went okay, and the result has been returned (if any)\n",
    "* 301: the server is redirecting you to a different endpoint. This can happen when a company switches domain names, or an endpoint name is changed.\n",
    "* 401: the server thinks you're not authenticated. This happens when you don't send the right credentials to access an API.\n",
    "* 400: the server thinks you made a bad request. This can happen when you don't send along the right data, among other things.\n",
    "* 403: the resource you're trying to access is forbidden – you don't have the right permissions to see it.\n",
    "* 404: the resource you tried to access wasn't found on the server.\n"
   ]
  },
  {
   "cell_type": "markdown",
   "metadata": {},
   "source": [
    "You can specify the query parameters for a URL with a Python dictionary like this:\n",
    "```python\n",
    "parameters = {\"lat\": 37.78, \"lon\": -122.41}\n",
    "```\n",
    "\n",
    "And pass the parameter to the request like this\n",
    "```python\n",
    "response = requests.get(\"http://api.open-notify.org/iss-pass.json\", params=parameters)\n",
    "```\n",
    "This is the same as \n",
    "```python\n",
    "response = requests.get(\"http://api.open-notify.org/iss-pass.json?lat=37.78&lon=-122.41\")\n",
    "```\n",
    "\n",
    "Alternatively you could build also the URL with the parameters by yourself with string concatenation. \n",
    "\n",
    "* Get with the request method 10 results of only males from the US.\n",
    "\n"
   ]
  },
  {
   "cell_type": "code",
   "execution_count": 15,
   "metadata": {
    "collapsed": true
   },
   "outputs": [
    {
     "data": {
      "text/plain": [
       "<Response [200]>"
      ]
     },
     "execution_count": 15,
     "metadata": {},
     "output_type": "execute_result"
    }
   ],
   "source": [
    "# TODO: Get with the request method 10 results of only males from the US.\n",
    "parameter = {\"results\": 10, \"gender\": 'male', \"nat\": 'us'}\n",
    "response = requests.get(\"https://api.randomuser.me/\", params=parameter)\n",
    "response\n",
    "# re = requests.get(\"https://api.randomuser.me/?results=10&gender=male&nat=us\")\n",
    "# re"
   ]
  },
  {
   "cell_type": "markdown",
   "metadata": {},
   "source": [
    "* You can show the result of the request with the method text"
   ]
  },
  {
   "cell_type": "code",
   "execution_count": 16,
   "metadata": {
    "collapsed": true,
    "scrolled": true
   },
   "outputs": [
    {
     "data": {
      "text/plain": [
       "'{\"results\":[{\"gender\":\"male\",\"name\":{\"title\":\"mr\",\"first\":\"duane\",\"last\":\"webb\"},\"location\":{\"street\":\"3419 n stelling rd\",\"city\":\"oklahoma city\",\"state\":\"wisconsin\",\"postcode\":74977,\"coordinates\":{\"latitude\":\"37.7001\",\"longitude\":\"-84.3812\"},\"timezone\":{\"offset\":\"+7:00\",\"description\":\"Bangkok, Hanoi, Jakarta\"}},\"email\":\"duane.webb@example.com\",\"login\":{\"uuid\":\"fd58afbe-5e1a-44e4-b94c-6976ff82a0b6\",\"username\":\"purpleelephant818\",\"password\":\"yyyyyyy\",\"salt\":\"6t5dOs4q\",\"md5\":\"42c860391d635fbcd695f542f8d02fee\",\"sha1\":\"73ab7d4727e3428fcf7f65bf338022fc5d0402bf\",\"sha256\":\"e06a14fb87996f4e31c953620d6cb802e15a17b647d37a7bf6d8f75181e6f222\"},\"dob\":{\"date\":\"1966-11-12T12:30:57Z\",\"age\":52},\"registered\":{\"date\":\"2012-01-15T08:55:59Z\",\"age\":7},\"phone\":\"(399)-516-0747\",\"cell\":\"(961)-494-0289\",\"id\":{\"name\":\"SSN\",\"value\":\"215-24-2236\"},\"picture\":{\"large\":\"https://randomuser.me/api/portraits/men/44.jpg\",\"medium\":\"https://randomuser.me/api/portraits/med/men/44.jpg\",\"thumbnail\":\"https://randomuser.me/api/portraits/thumb/men/44.jpg\"},\"nat\":\"US\"},{\"gender\":\"male\",\"name\":{\"title\":\"mr\",\"first\":\"kurt\",\"last\":\"rivera\"},\"location\":{\"street\":\"236 hunters creek dr\",\"city\":\"savannah\",\"state\":\"oklahoma\",\"postcode\":25365,\"coordinates\":{\"latitude\":\"43.4462\",\"longitude\":\"156.8669\"},\"timezone\":{\"offset\":\"+1:00\",\"description\":\"Brussels, Copenhagen, Madrid, Paris\"}},\"email\":\"kurt.rivera@example.com\",\"login\":{\"uuid\":\"927e703d-f439-4463-85a8-9c706db2e20a\",\"username\":\"organicsnake636\",\"password\":\"young\",\"salt\":\"6icOqCop\",\"md5\":\"0dae7325c7417f5c0bd5d358d07d71d2\",\"sha1\":\"607a14fbd441cd7fe26f9dc02231e94a9ce0ecbb\",\"sha256\":\"e06b4ac0cc48570d0f6108499400ca2a6bf2865ba754067762846354743c9491\"},\"dob\":{\"date\":\"1946-05-30T07:44:32Z\",\"age\":72},\"registered\":{\"date\":\"2011-11-10T19:31:18Z\",\"age\":7},\"phone\":\"(492)-995-5899\",\"cell\":\"(717)-893-0492\",\"id\":{\"name\":\"SSN\",\"value\":\"232-05-4748\"},\"picture\":{\"large\":\"https://randomuser.me/api/portraits/men/43.jpg\",\"medium\":\"https://randomuser.me/api/portraits/med/men/43.jpg\",\"thumbnail\":\"https://randomuser.me/api/portraits/thumb/men/43.jpg\"},\"nat\":\"US\"},{\"gender\":\"male\",\"name\":{\"title\":\"mr\",\"first\":\"martin\",\"last\":\"wells\"},\"location\":{\"street\":\"2097 miller ave\",\"city\":\"carlsbad\",\"state\":\"louisiana\",\"postcode\":67875,\"coordinates\":{\"latitude\":\"-42.6787\",\"longitude\":\"-14.7724\"},\"timezone\":{\"offset\":\"+5:45\",\"description\":\"Kathmandu\"}},\"email\":\"martin.wells@example.com\",\"login\":{\"uuid\":\"33f9d909-76f4-4fe9-8eff-b2cdf507f445\",\"username\":\"redbear903\",\"password\":\"1012\",\"salt\":\"i9sg471C\",\"md5\":\"5868115498b6e38151e11acb3d6482fe\",\"sha1\":\"1adbb5429fcb0adae2f49b6da472a9ff4f297571\",\"sha256\":\"f7e0400c903e41d1029e2c48c3ee2372598dcc355a614421fed01418a6a98854\"},\"dob\":{\"date\":\"1993-01-31T11:24:36Z\",\"age\":26},\"registered\":{\"date\":\"2003-01-28T21:32:17Z\",\"age\":16},\"phone\":\"(356)-392-3582\",\"cell\":\"(992)-559-5004\",\"id\":{\"name\":\"SSN\",\"value\":\"910-71-8984\"},\"picture\":{\"large\":\"https://randomuser.me/api/portraits/men/27.jpg\",\"medium\":\"https://randomuser.me/api/portraits/med/men/27.jpg\",\"thumbnail\":\"https://randomuser.me/api/portraits/thumb/men/27.jpg\"},\"nat\":\"US\"},{\"gender\":\"male\",\"name\":{\"title\":\"mr\",\"first\":\"angel\",\"last\":\"butler\"},\"location\":{\"street\":\"7919 marsh ln\",\"city\":\"lexington\",\"state\":\"nevada\",\"postcode\":46447,\"coordinates\":{\"latitude\":\"-47.3609\",\"longitude\":\"-172.4780\"},\"timezone\":{\"offset\":\"+1:00\",\"description\":\"Brussels, Copenhagen, Madrid, Paris\"}},\"email\":\"angel.butler@example.com\",\"login\":{\"uuid\":\"87c6edaf-b382-45a2-b41e-fd70b0ee0458\",\"username\":\"crazyswan716\",\"password\":\"canada\",\"salt\":\"Up7X30s5\",\"md5\":\"57fb60e47a3f3c55116b164e582c409b\",\"sha1\":\"309bcd83ec7532bb9496bb2f51c1a87985d908fd\",\"sha256\":\"b47f9da6ffcfc1e2d6fcee2b8a0df9a13e7429f7997a8d4944fd36beeee50c8f\"},\"dob\":{\"date\":\"1987-03-09T01:40:18Z\",\"age\":32},\"registered\":{\"date\":\"2009-05-17T12:00:50Z\",\"age\":9},\"phone\":\"(415)-102-1468\",\"cell\":\"(647)-367-8393\",\"id\":{\"name\":\"SSN\",\"value\":\"215-15-3579\"},\"picture\":{\"large\":\"https://randomuser.me/api/portraits/men/73.jpg\",\"medium\":\"https://randomuser.me/api/portraits/med/men/73.jpg\",\"thumbnail\":\"https://randomuser.me/api/portraits/thumb/men/73.jpg\"},\"nat\":\"US\"},{\"gender\":\"male\",\"name\":{\"title\":\"mr\",\"first\":\"wade\",\"last\":\"webb\"},\"location\":{\"street\":\"9565 wycliff ave\",\"city\":\"santa clarita\",\"state\":\"wyoming\",\"postcode\":72254,\"coordinates\":{\"latitude\":\"35.0289\",\"longitude\":\"-60.2385\"},\"timezone\":{\"offset\":\"+1:00\",\"description\":\"Brussels, Copenhagen, Madrid, Paris\"}},\"email\":\"wade.webb@example.com\",\"login\":{\"uuid\":\"f358e3ff-488f-4800-ae20-c1dfd78017c7\",\"username\":\"purpleduck977\",\"password\":\"nipper\",\"salt\":\"mQVC0mSq\",\"md5\":\"23541a68605b82d26366a10a25a9c4b0\",\"sha1\":\"40074b01cb4bbe68471a79fff64f3b2b71c72963\",\"sha256\":\"3f3aaec8cbda881483f31b7035f190ed84ed91f16b738f05b0902bc604e9f51e\"},\"dob\":{\"date\":\"1948-10-14T17:47:28Z\",\"age\":70},\"registered\":{\"date\":\"2002-11-27T07:49:16Z\",\"age\":16},\"phone\":\"(301)-841-6144\",\"cell\":\"(803)-597-9452\",\"id\":{\"name\":\"SSN\",\"value\":\"178-64-9266\"},\"picture\":{\"large\":\"https://randomuser.me/api/portraits/men/98.jpg\",\"medium\":\"https://randomuser.me/api/portraits/med/men/98.jpg\",\"thumbnail\":\"https://randomuser.me/api/portraits/thumb/men/98.jpg\"},\"nat\":\"US\"},{\"gender\":\"male\",\"name\":{\"title\":\"mr\",\"first\":\"gene\",\"last\":\"rivera\"},\"location\":{\"street\":\"6866 miller ave\",\"city\":\"topeka\",\"state\":\"north carolina\",\"postcode\":82811,\"coordinates\":{\"latitude\":\"0.2535\",\"longitude\":\"15.7116\"},\"timezone\":{\"offset\":\"-8:00\",\"description\":\"Pacific Time (US & Canada)\"}},\"email\":\"gene.rivera@example.com\",\"login\":{\"uuid\":\"6c3fcef4-e34d-4ac7-b638-113279da6b6a\",\"username\":\"smallcat601\",\"password\":\"nguyen\",\"salt\":\"pUhI02Qa\",\"md5\":\"b652dce0f18d9110f00f69e50338da7a\",\"sha1\":\"5316a895fb0a03012bfeec6b2c51dcc50b9ecb4b\",\"sha256\":\"a1e13c59fea9c13806d16d13d83774295dfd7765cc46dba0cc843cc781ccee6e\"},\"dob\":{\"date\":\"1979-08-04T18:36:00Z\",\"age\":39},\"registered\":{\"date\":\"2008-04-17T12:27:08Z\",\"age\":11},\"phone\":\"(975)-964-1641\",\"cell\":\"(736)-983-2037\",\"id\":{\"name\":\"SSN\",\"value\":\"427-78-2824\"},\"picture\":{\"large\":\"https://randomuser.me/api/portraits/men/37.jpg\",\"medium\":\"https://randomuser.me/api/portraits/med/men/37.jpg\",\"thumbnail\":\"https://randomuser.me/api/portraits/thumb/men/37.jpg\"},\"nat\":\"US\"},{\"gender\":\"male\",\"name\":{\"title\":\"mr\",\"first\":\"douglas\",\"last\":\"douglas\"},\"location\":{\"street\":\"7133 wheeler ridge dr\",\"city\":\"huntington beach\",\"state\":\"wyoming\",\"postcode\":50573,\"coordinates\":{\"latitude\":\"52.4707\",\"longitude\":\"141.3893\"},\"timezone\":{\"offset\":\"-12:00\",\"description\":\"Eniwetok, Kwajalein\"}},\"email\":\"douglas.douglas@example.com\",\"login\":{\"uuid\":\"5e532928-58ce-45ff-bffc-fb3bc7f3b4aa\",\"username\":\"lazydog500\",\"password\":\"vikings1\",\"salt\":\"GoN9t6BX\",\"md5\":\"1fb41c4e9f9cd7c2db574690efc954e4\",\"sha1\":\"0a0aeedec6b73166e0eb17693c10f3e10bc229ae\",\"sha256\":\"447efd5b393c047f237fd84ff8fe65fd2fa802ff485660908600e8a49e1fbc8a\"},\"dob\":{\"date\":\"1993-03-13T06:04:27Z\",\"age\":26},\"registered\":{\"date\":\"2006-01-19T07:42:07Z\",\"age\":13},\"phone\":\"(600)-620-3702\",\"cell\":\"(354)-685-9669\",\"id\":{\"name\":\"SSN\",\"value\":\"691-66-1858\"},\"picture\":{\"large\":\"https://randomuser.me/api/portraits/men/87.jpg\",\"medium\":\"https://randomuser.me/api/portraits/med/men/87.jpg\",\"thumbnail\":\"https://randomuser.me/api/portraits/thumb/men/87.jpg\"},\"nat\":\"US\"},{\"gender\":\"male\",\"name\":{\"title\":\"mr\",\"first\":\"brent\",\"last\":\"garrett\"},\"location\":{\"street\":\"1787 washington ave\",\"city\":\"forney\",\"state\":\"florida\",\"postcode\":78037,\"coordinates\":{\"latitude\":\"-52.2214\",\"longitude\":\"171.0340\"},\"timezone\":{\"offset\":\"+3:30\",\"description\":\"Tehran\"}},\"email\":\"brent.garrett@example.com\",\"login\":{\"uuid\":\"10f511d6-2927-46d1-99fc-e6842cdb7f3a\",\"username\":\"heavyelephant754\",\"password\":\"lback\",\"salt\":\"C1aE2kNo\",\"md5\":\"80e50b7c97363211348ec3ee8ebd3805\",\"sha1\":\"71eb40ce9b155fae114179bd2bc97188ffe2dd69\",\"sha256\":\"71110c2ece11c37d0dd81c9aeee6890d8fc42814a332f22ebad9e11104c08ed1\"},\"dob\":{\"date\":\"1964-11-17T23:32:26Z\",\"age\":54},\"registered\":{\"date\":\"2006-04-28T13:46:07Z\",\"age\":12},\"phone\":\"(588)-388-6992\",\"cell\":\"(029)-310-6647\",\"id\":{\"name\":\"SSN\",\"value\":\"778-53-1700\"},\"picture\":{\"large\":\"https://randomuser.me/api/portraits/men/18.jpg\",\"medium\":\"https://randomuser.me/api/portraits/med/men/18.jpg\",\"thumbnail\":\"https://randomuser.me/api/portraits/thumb/men/18.jpg\"},\"nat\":\"US\"},{\"gender\":\"male\",\"name\":{\"title\":\"mr\",\"first\":\"virgil\",\"last\":\"gregory\"},\"location\":{\"street\":\"3080 cackson st\",\"city\":\"rockford\",\"state\":\"north carolina\",\"postcode\":10731,\"coordinates\":{\"latitude\":\"19.9994\",\"longitude\":\"-134.7150\"},\"timezone\":{\"offset\":\"-10:00\",\"description\":\"Hawaii\"}},\"email\":\"virgil.gregory@example.com\",\"login\":{\"uuid\":\"5c2a8eac-4c18-4fda-8ac2-8a55fb9fa62a\",\"username\":\"lazypeacock644\",\"password\":\"1028\",\"salt\":\"YnppMbAx\",\"md5\":\"237f7c8a1b46110ce4b1cc2aa01dd387\",\"sha1\":\"6bcc2ca0d99e35a46ce04133cb85a6edadb2095d\",\"sha256\":\"643bac66d07a78330aac599fd72f034fc9a846802e821dfab5b50428d01541cc\"},\"dob\":{\"date\":\"1963-09-18T18:09:04Z\",\"age\":55},\"registered\":{\"date\":\"2012-03-29T02:33:43Z\",\"age\":7},\"phone\":\"(510)-694-9413\",\"cell\":\"(655)-560-7401\",\"id\":{\"name\":\"SSN\",\"value\":\"023-58-6178\"},\"picture\":{\"large\":\"https://randomuser.me/api/portraits/men/51.jpg\",\"medium\":\"https://randomuser.me/api/portraits/med/men/51.jpg\",\"thumbnail\":\"https://randomuser.me/api/portraits/thumb/men/51.jpg\"},\"nat\":\"US\"},{\"gender\":\"male\",\"name\":{\"title\":\"mr\",\"first\":\"tomothy\",\"last\":\"barnett\"},\"location\":{\"street\":\"5178 marsh ln\",\"city\":\"waco\",\"state\":\"new york\",\"postcode\":34558,\"coordinates\":{\"latitude\":\"-14.6074\",\"longitude\":\"-113.3947\"},\"timezone\":{\"offset\":\"-1:00\",\"description\":\"Azores, Cape Verde Islands\"}},\"email\":\"tomothy.barnett@example.com\",\"login\":{\"uuid\":\"c6bee431-5b63-4cbd-bd36-b430bf6f783a\",\"username\":\"brownostrich728\",\"password\":\"bdsm\",\"salt\":\"gt1Vneau\",\"md5\":\"718883d1ec7eb2d958f9480e6e5a1613\",\"sha1\":\"195cb257b6548aad50e7141742b99eb86b67fee8\",\"sha256\":\"a277c7351a52c2bb796a8480d1a6d159416edfdee0f64cfb11280c6208f1c985\"},\"dob\":{\"date\":\"1948-11-05T18:53:56Z\",\"age\":70},\"registered\":{\"date\":\"2013-09-13T10:15:57Z\",\"age\":5},\"phone\":\"(116)-702-0602\",\"cell\":\"(878)-723-6052\",\"id\":{\"name\":\"SSN\",\"value\":\"618-48-3092\"},\"picture\":{\"large\":\"https://randomuser.me/api/portraits/men/23.jpg\",\"medium\":\"https://randomuser.me/api/portraits/med/men/23.jpg\",\"thumbnail\":\"https://randomuser.me/api/portraits/thumb/men/23.jpg\"},\"nat\":\"US\"}],\"info\":{\"seed\":\"93d630559465877f\",\"results\":10,\"page\":1,\"version\":\"1.2\"}}'"
      ]
     },
     "execution_count": 16,
     "metadata": {},
     "output_type": "execute_result"
    }
   ],
   "source": [
    "response.text"
   ]
  },
  {
   "cell_type": "markdown",
   "metadata": {},
   "source": [
    "* You can convert the data from JSON to a Python dictionary with the package JSON"
   ]
  },
  {
   "cell_type": "code",
   "execution_count": 17,
   "metadata": {
    "collapsed": true
   },
   "outputs": [],
   "source": [
    "data = json.loads(response.text)"
   ]
  },
  {
   "cell_type": "markdown",
   "metadata": {},
   "source": [
    "* Check the type of variable data"
   ]
  },
  {
   "cell_type": "code",
   "execution_count": 18,
   "metadata": {
    "collapsed": true
   },
   "outputs": [
    {
     "data": {
      "text/plain": [
       "dict"
      ]
     },
     "execution_count": 18,
     "metadata": {},
     "output_type": "execute_result"
    }
   ],
   "source": [
    "type(data)"
   ]
  },
  {
   "cell_type": "code",
   "execution_count": 19,
   "metadata": {
    "collapsed": true
   },
   "outputs": [
    {
     "name": "stdout",
     "output_type": "stream",
     "text": [
      "{'results': [{'gender': 'male', 'name': {'title': 'mr', 'first': 'duane', 'last': 'webb'}, 'location': {'street': '3419 n stelling rd', 'city': 'oklahoma city', 'state': 'wisconsin', 'postcode': 74977, 'coordinates': {'latitude': '37.7001', 'longitude': '-84.3812'}, 'timezone': {'offset': '+7:00', 'description': 'Bangkok, Hanoi, Jakarta'}}, 'email': 'duane.webb@example.com', 'login': {'uuid': 'fd58afbe-5e1a-44e4-b94c-6976ff82a0b6', 'username': 'purpleelephant818', 'password': 'yyyyyyy', 'salt': '6t5dOs4q', 'md5': '42c860391d635fbcd695f542f8d02fee', 'sha1': '73ab7d4727e3428fcf7f65bf338022fc5d0402bf', 'sha256': 'e06a14fb87996f4e31c953620d6cb802e15a17b647d37a7bf6d8f75181e6f222'}, 'dob': {'date': '1966-11-12T12:30:57Z', 'age': 52}, 'registered': {'date': '2012-01-15T08:55:59Z', 'age': 7}, 'phone': '(399)-516-0747', 'cell': '(961)-494-0289', 'id': {'name': 'SSN', 'value': '215-24-2236'}, 'picture': {'large': 'https://randomuser.me/api/portraits/men/44.jpg', 'medium': 'https://randomuser.me/api/portraits/med/men/44.jpg', 'thumbnail': 'https://randomuser.me/api/portraits/thumb/men/44.jpg'}, 'nat': 'US'}, {'gender': 'male', 'name': {'title': 'mr', 'first': 'kurt', 'last': 'rivera'}, 'location': {'street': '236 hunters creek dr', 'city': 'savannah', 'state': 'oklahoma', 'postcode': 25365, 'coordinates': {'latitude': '43.4462', 'longitude': '156.8669'}, 'timezone': {'offset': '+1:00', 'description': 'Brussels, Copenhagen, Madrid, Paris'}}, 'email': 'kurt.rivera@example.com', 'login': {'uuid': '927e703d-f439-4463-85a8-9c706db2e20a', 'username': 'organicsnake636', 'password': 'young', 'salt': '6icOqCop', 'md5': '0dae7325c7417f5c0bd5d358d07d71d2', 'sha1': '607a14fbd441cd7fe26f9dc02231e94a9ce0ecbb', 'sha256': 'e06b4ac0cc48570d0f6108499400ca2a6bf2865ba754067762846354743c9491'}, 'dob': {'date': '1946-05-30T07:44:32Z', 'age': 72}, 'registered': {'date': '2011-11-10T19:31:18Z', 'age': 7}, 'phone': '(492)-995-5899', 'cell': '(717)-893-0492', 'id': {'name': 'SSN', 'value': '232-05-4748'}, 'picture': {'large': 'https://randomuser.me/api/portraits/men/43.jpg', 'medium': 'https://randomuser.me/api/portraits/med/men/43.jpg', 'thumbnail': 'https://randomuser.me/api/portraits/thumb/men/43.jpg'}, 'nat': 'US'}, {'gender': 'male', 'name': {'title': 'mr', 'first': 'martin', 'last': 'wells'}, 'location': {'street': '2097 miller ave', 'city': 'carlsbad', 'state': 'louisiana', 'postcode': 67875, 'coordinates': {'latitude': '-42.6787', 'longitude': '-14.7724'}, 'timezone': {'offset': '+5:45', 'description': 'Kathmandu'}}, 'email': 'martin.wells@example.com', 'login': {'uuid': '33f9d909-76f4-4fe9-8eff-b2cdf507f445', 'username': 'redbear903', 'password': '1012', 'salt': 'i9sg471C', 'md5': '5868115498b6e38151e11acb3d6482fe', 'sha1': '1adbb5429fcb0adae2f49b6da472a9ff4f297571', 'sha256': 'f7e0400c903e41d1029e2c48c3ee2372598dcc355a614421fed01418a6a98854'}, 'dob': {'date': '1993-01-31T11:24:36Z', 'age': 26}, 'registered': {'date': '2003-01-28T21:32:17Z', 'age': 16}, 'phone': '(356)-392-3582', 'cell': '(992)-559-5004', 'id': {'name': 'SSN', 'value': '910-71-8984'}, 'picture': {'large': 'https://randomuser.me/api/portraits/men/27.jpg', 'medium': 'https://randomuser.me/api/portraits/med/men/27.jpg', 'thumbnail': 'https://randomuser.me/api/portraits/thumb/men/27.jpg'}, 'nat': 'US'}, {'gender': 'male', 'name': {'title': 'mr', 'first': 'angel', 'last': 'butler'}, 'location': {'street': '7919 marsh ln', 'city': 'lexington', 'state': 'nevada', 'postcode': 46447, 'coordinates': {'latitude': '-47.3609', 'longitude': '-172.4780'}, 'timezone': {'offset': '+1:00', 'description': 'Brussels, Copenhagen, Madrid, Paris'}}, 'email': 'angel.butler@example.com', 'login': {'uuid': '87c6edaf-b382-45a2-b41e-fd70b0ee0458', 'username': 'crazyswan716', 'password': 'canada', 'salt': 'Up7X30s5', 'md5': '57fb60e47a3f3c55116b164e582c409b', 'sha1': '309bcd83ec7532bb9496bb2f51c1a87985d908fd', 'sha256': 'b47f9da6ffcfc1e2d6fcee2b8a0df9a13e7429f7997a8d4944fd36beeee50c8f'}, 'dob': {'date': '1987-03-09T01:40:18Z', 'age': 32}, 'registered': {'date': '2009-05-17T12:00:50Z', 'age': 9}, 'phone': '(415)-102-1468', 'cell': '(647)-367-8393', 'id': {'name': 'SSN', 'value': '215-15-3579'}, 'picture': {'large': 'https://randomuser.me/api/portraits/men/73.jpg', 'medium': 'https://randomuser.me/api/portraits/med/men/73.jpg', 'thumbnail': 'https://randomuser.me/api/portraits/thumb/men/73.jpg'}, 'nat': 'US'}, {'gender': 'male', 'name': {'title': 'mr', 'first': 'wade', 'last': 'webb'}, 'location': {'street': '9565 wycliff ave', 'city': 'santa clarita', 'state': 'wyoming', 'postcode': 72254, 'coordinates': {'latitude': '35.0289', 'longitude': '-60.2385'}, 'timezone': {'offset': '+1:00', 'description': 'Brussels, Copenhagen, Madrid, Paris'}}, 'email': 'wade.webb@example.com', 'login': {'uuid': 'f358e3ff-488f-4800-ae20-c1dfd78017c7', 'username': 'purpleduck977', 'password': 'nipper', 'salt': 'mQVC0mSq', 'md5': '23541a68605b82d26366a10a25a9c4b0', 'sha1': '40074b01cb4bbe68471a79fff64f3b2b71c72963', 'sha256': '3f3aaec8cbda881483f31b7035f190ed84ed91f16b738f05b0902bc604e9f51e'}, 'dob': {'date': '1948-10-14T17:47:28Z', 'age': 70}, 'registered': {'date': '2002-11-27T07:49:16Z', 'age': 16}, 'phone': '(301)-841-6144', 'cell': '(803)-597-9452', 'id': {'name': 'SSN', 'value': '178-64-9266'}, 'picture': {'large': 'https://randomuser.me/api/portraits/men/98.jpg', 'medium': 'https://randomuser.me/api/portraits/med/men/98.jpg', 'thumbnail': 'https://randomuser.me/api/portraits/thumb/men/98.jpg'}, 'nat': 'US'}, {'gender': 'male', 'name': {'title': 'mr', 'first': 'gene', 'last': 'rivera'}, 'location': {'street': '6866 miller ave', 'city': 'topeka', 'state': 'north carolina', 'postcode': 82811, 'coordinates': {'latitude': '0.2535', 'longitude': '15.7116'}, 'timezone': {'offset': '-8:00', 'description': 'Pacific Time (US & Canada)'}}, 'email': 'gene.rivera@example.com', 'login': {'uuid': '6c3fcef4-e34d-4ac7-b638-113279da6b6a', 'username': 'smallcat601', 'password': 'nguyen', 'salt': 'pUhI02Qa', 'md5': 'b652dce0f18d9110f00f69e50338da7a', 'sha1': '5316a895fb0a03012bfeec6b2c51dcc50b9ecb4b', 'sha256': 'a1e13c59fea9c13806d16d13d83774295dfd7765cc46dba0cc843cc781ccee6e'}, 'dob': {'date': '1979-08-04T18:36:00Z', 'age': 39}, 'registered': {'date': '2008-04-17T12:27:08Z', 'age': 11}, 'phone': '(975)-964-1641', 'cell': '(736)-983-2037', 'id': {'name': 'SSN', 'value': '427-78-2824'}, 'picture': {'large': 'https://randomuser.me/api/portraits/men/37.jpg', 'medium': 'https://randomuser.me/api/portraits/med/men/37.jpg', 'thumbnail': 'https://randomuser.me/api/portraits/thumb/men/37.jpg'}, 'nat': 'US'}, {'gender': 'male', 'name': {'title': 'mr', 'first': 'douglas', 'last': 'douglas'}, 'location': {'street': '7133 wheeler ridge dr', 'city': 'huntington beach', 'state': 'wyoming', 'postcode': 50573, 'coordinates': {'latitude': '52.4707', 'longitude': '141.3893'}, 'timezone': {'offset': '-12:00', 'description': 'Eniwetok, Kwajalein'}}, 'email': 'douglas.douglas@example.com', 'login': {'uuid': '5e532928-58ce-45ff-bffc-fb3bc7f3b4aa', 'username': 'lazydog500', 'password': 'vikings1', 'salt': 'GoN9t6BX', 'md5': '1fb41c4e9f9cd7c2db574690efc954e4', 'sha1': '0a0aeedec6b73166e0eb17693c10f3e10bc229ae', 'sha256': '447efd5b393c047f237fd84ff8fe65fd2fa802ff485660908600e8a49e1fbc8a'}, 'dob': {'date': '1993-03-13T06:04:27Z', 'age': 26}, 'registered': {'date': '2006-01-19T07:42:07Z', 'age': 13}, 'phone': '(600)-620-3702', 'cell': '(354)-685-9669', 'id': {'name': 'SSN', 'value': '691-66-1858'}, 'picture': {'large': 'https://randomuser.me/api/portraits/men/87.jpg', 'medium': 'https://randomuser.me/api/portraits/med/men/87.jpg', 'thumbnail': 'https://randomuser.me/api/portraits/thumb/men/87.jpg'}, 'nat': 'US'}, {'gender': 'male', 'name': {'title': 'mr', 'first': 'brent', 'last': 'garrett'}, 'location': {'street': '1787 washington ave', 'city': 'forney', 'state': 'florida', 'postcode': 78037, 'coordinates': {'latitude': '-52.2214', 'longitude': '171.0340'}, 'timezone': {'offset': '+3:30', 'description': 'Tehran'}}, 'email': 'brent.garrett@example.com', 'login': {'uuid': '10f511d6-2927-46d1-99fc-e6842cdb7f3a', 'username': 'heavyelephant754', 'password': 'lback', 'salt': 'C1aE2kNo', 'md5': '80e50b7c97363211348ec3ee8ebd3805', 'sha1': '71eb40ce9b155fae114179bd2bc97188ffe2dd69', 'sha256': '71110c2ece11c37d0dd81c9aeee6890d8fc42814a332f22ebad9e11104c08ed1'}, 'dob': {'date': '1964-11-17T23:32:26Z', 'age': 54}, 'registered': {'date': '2006-04-28T13:46:07Z', 'age': 12}, 'phone': '(588)-388-6992', 'cell': '(029)-310-6647', 'id': {'name': 'SSN', 'value': '778-53-1700'}, 'picture': {'large': 'https://randomuser.me/api/portraits/men/18.jpg', 'medium': 'https://randomuser.me/api/portraits/med/men/18.jpg', 'thumbnail': 'https://randomuser.me/api/portraits/thumb/men/18.jpg'}, 'nat': 'US'}, {'gender': 'male', 'name': {'title': 'mr', 'first': 'virgil', 'last': 'gregory'}, 'location': {'street': '3080 cackson st', 'city': 'rockford', 'state': 'north carolina', 'postcode': 10731, 'coordinates': {'latitude': '19.9994', 'longitude': '-134.7150'}, 'timezone': {'offset': '-10:00', 'description': 'Hawaii'}}, 'email': 'virgil.gregory@example.com', 'login': {'uuid': '5c2a8eac-4c18-4fda-8ac2-8a55fb9fa62a', 'username': 'lazypeacock644', 'password': '1028', 'salt': 'YnppMbAx', 'md5': '237f7c8a1b46110ce4b1cc2aa01dd387', 'sha1': '6bcc2ca0d99e35a46ce04133cb85a6edadb2095d', 'sha256': '643bac66d07a78330aac599fd72f034fc9a846802e821dfab5b50428d01541cc'}, 'dob': {'date': '1963-09-18T18:09:04Z', 'age': 55}, 'registered': {'date': '2012-03-29T02:33:43Z', 'age': 7}, 'phone': '(510)-694-9413', 'cell': '(655)-560-7401', 'id': {'name': 'SSN', 'value': '023-58-6178'}, 'picture': {'large': 'https://randomuser.me/api/portraits/men/51.jpg', 'medium': 'https://randomuser.me/api/portraits/med/men/51.jpg', 'thumbnail': 'https://randomuser.me/api/portraits/thumb/men/51.jpg'}, 'nat': 'US'}, {'gender': 'male', 'name': {'title': 'mr', 'first': 'tomothy', 'last': 'barnett'}, 'location': {'street': '5178 marsh ln', 'city': 'waco', 'state': 'new york', 'postcode': 34558, 'coordinates': {'latitude': '-14.6074', 'longitude': '-113.3947'}, 'timezone': {'offset': '-1:00', 'description': 'Azores, Cape Verde Islands'}}, 'email': 'tomothy.barnett@example.com', 'login': {'uuid': 'c6bee431-5b63-4cbd-bd36-b430bf6f783a', 'username': 'brownostrich728', 'password': 'bdsm', 'salt': 'gt1Vneau', 'md5': '718883d1ec7eb2d958f9480e6e5a1613', 'sha1': '195cb257b6548aad50e7141742b99eb86b67fee8', 'sha256': 'a277c7351a52c2bb796a8480d1a6d159416edfdee0f64cfb11280c6208f1c985'}, 'dob': {'date': '1948-11-05T18:53:56Z', 'age': 70}, 'registered': {'date': '2013-09-13T10:15:57Z', 'age': 5}, 'phone': '(116)-702-0602', 'cell': '(878)-723-6052', 'id': {'name': 'SSN', 'value': '618-48-3092'}, 'picture': {'large': 'https://randomuser.me/api/portraits/men/23.jpg', 'medium': 'https://randomuser.me/api/portraits/med/men/23.jpg', 'thumbnail': 'https://randomuser.me/api/portraits/thumb/men/23.jpg'}, 'nat': 'US'}], 'info': {'seed': '93d630559465877f', 'results': 10, 'page': 1, 'version': '1.2'}}\n"
     ]
    }
   ],
   "source": [
    "print(data)"
   ]
  },
  {
   "cell_type": "markdown",
   "metadata": {},
   "source": [
    "* *pretty-print* (pprint) prints complex data structures like dictionary prettier.  https://docs.python.org/3/library/pprint.html "
   ]
  },
  {
   "cell_type": "code",
   "execution_count": 20,
   "metadata": {
    "collapsed": true
   },
   "outputs": [
    {
     "name": "stdout",
     "output_type": "stream",
     "text": [
      "{'info': {'page': 1,\n",
      "          'results': 10,\n",
      "          'seed': '93d630559465877f',\n",
      "          'version': '1.2'},\n",
      " 'results': [{'cell': '(961)-494-0289',\n",
      "              'dob': {'age': 52, 'date': '1966-11-12T12:30:57Z'},\n",
      "              'email': 'duane.webb@example.com',\n",
      "              'gender': 'male',\n",
      "              'id': {'name': 'SSN', 'value': '215-24-2236'},\n",
      "              'location': {'city': 'oklahoma city',\n",
      "                           'coordinates': {'latitude': '37.7001',\n",
      "                                           'longitude': '-84.3812'},\n",
      "                           'postcode': 74977,\n",
      "                           'state': 'wisconsin',\n",
      "                           'street': '3419 n stelling rd',\n",
      "                           'timezone': {'description': 'Bangkok, Hanoi, '\n",
      "                                                       'Jakarta',\n",
      "                                        'offset': '+7:00'}},\n",
      "              'login': {'md5': '42c860391d635fbcd695f542f8d02fee',\n",
      "                        'password': 'yyyyyyy',\n",
      "                        'salt': '6t5dOs4q',\n",
      "                        'sha1': '73ab7d4727e3428fcf7f65bf338022fc5d0402bf',\n",
      "                        'sha256': 'e06a14fb87996f4e31c953620d6cb802e15a17b647d37a7bf6d8f75181e6f222',\n",
      "                        'username': 'purpleelephant818',\n",
      "                        'uuid': 'fd58afbe-5e1a-44e4-b94c-6976ff82a0b6'},\n",
      "              'name': {'first': 'duane', 'last': 'webb', 'title': 'mr'},\n",
      "              'nat': 'US',\n",
      "              'phone': '(399)-516-0747',\n",
      "              'picture': {'large': 'https://randomuser.me/api/portraits/men/44.jpg',\n",
      "                          'medium': 'https://randomuser.me/api/portraits/med/men/44.jpg',\n",
      "                          'thumbnail': 'https://randomuser.me/api/portraits/thumb/men/44.jpg'},\n",
      "              'registered': {'age': 7, 'date': '2012-01-15T08:55:59Z'}},\n",
      "             {'cell': '(717)-893-0492',\n",
      "              'dob': {'age': 72, 'date': '1946-05-30T07:44:32Z'},\n",
      "              'email': 'kurt.rivera@example.com',\n",
      "              'gender': 'male',\n",
      "              'id': {'name': 'SSN', 'value': '232-05-4748'},\n",
      "              'location': {'city': 'savannah',\n",
      "                           'coordinates': {'latitude': '43.4462',\n",
      "                                           'longitude': '156.8669'},\n",
      "                           'postcode': 25365,\n",
      "                           'state': 'oklahoma',\n",
      "                           'street': '236 hunters creek dr',\n",
      "                           'timezone': {'description': 'Brussels, Copenhagen, '\n",
      "                                                       'Madrid, Paris',\n",
      "                                        'offset': '+1:00'}},\n",
      "              'login': {'md5': '0dae7325c7417f5c0bd5d358d07d71d2',\n",
      "                        'password': 'young',\n",
      "                        'salt': '6icOqCop',\n",
      "                        'sha1': '607a14fbd441cd7fe26f9dc02231e94a9ce0ecbb',\n",
      "                        'sha256': 'e06b4ac0cc48570d0f6108499400ca2a6bf2865ba754067762846354743c9491',\n",
      "                        'username': 'organicsnake636',\n",
      "                        'uuid': '927e703d-f439-4463-85a8-9c706db2e20a'},\n",
      "              'name': {'first': 'kurt', 'last': 'rivera', 'title': 'mr'},\n",
      "              'nat': 'US',\n",
      "              'phone': '(492)-995-5899',\n",
      "              'picture': {'large': 'https://randomuser.me/api/portraits/men/43.jpg',\n",
      "                          'medium': 'https://randomuser.me/api/portraits/med/men/43.jpg',\n",
      "                          'thumbnail': 'https://randomuser.me/api/portraits/thumb/men/43.jpg'},\n",
      "              'registered': {'age': 7, 'date': '2011-11-10T19:31:18Z'}},\n",
      "             {'cell': '(992)-559-5004',\n",
      "              'dob': {'age': 26, 'date': '1993-01-31T11:24:36Z'},\n",
      "              'email': 'martin.wells@example.com',\n",
      "              'gender': 'male',\n",
      "              'id': {'name': 'SSN', 'value': '910-71-8984'},\n",
      "              'location': {'city': 'carlsbad',\n",
      "                           'coordinates': {'latitude': '-42.6787',\n",
      "                                           'longitude': '-14.7724'},\n",
      "                           'postcode': 67875,\n",
      "                           'state': 'louisiana',\n",
      "                           'street': '2097 miller ave',\n",
      "                           'timezone': {'description': 'Kathmandu',\n",
      "                                        'offset': '+5:45'}},\n",
      "              'login': {'md5': '5868115498b6e38151e11acb3d6482fe',\n",
      "                        'password': '1012',\n",
      "                        'salt': 'i9sg471C',\n",
      "                        'sha1': '1adbb5429fcb0adae2f49b6da472a9ff4f297571',\n",
      "                        'sha256': 'f7e0400c903e41d1029e2c48c3ee2372598dcc355a614421fed01418a6a98854',\n",
      "                        'username': 'redbear903',\n",
      "                        'uuid': '33f9d909-76f4-4fe9-8eff-b2cdf507f445'},\n",
      "              'name': {'first': 'martin', 'last': 'wells', 'title': 'mr'},\n",
      "              'nat': 'US',\n",
      "              'phone': '(356)-392-3582',\n",
      "              'picture': {'large': 'https://randomuser.me/api/portraits/men/27.jpg',\n",
      "                          'medium': 'https://randomuser.me/api/portraits/med/men/27.jpg',\n",
      "                          'thumbnail': 'https://randomuser.me/api/portraits/thumb/men/27.jpg'},\n",
      "              'registered': {'age': 16, 'date': '2003-01-28T21:32:17Z'}},\n",
      "             {'cell': '(647)-367-8393',\n",
      "              'dob': {'age': 32, 'date': '1987-03-09T01:40:18Z'},\n",
      "              'email': 'angel.butler@example.com',\n",
      "              'gender': 'male',\n",
      "              'id': {'name': 'SSN', 'value': '215-15-3579'},\n",
      "              'location': {'city': 'lexington',\n",
      "                           'coordinates': {'latitude': '-47.3609',\n",
      "                                           'longitude': '-172.4780'},\n",
      "                           'postcode': 46447,\n",
      "                           'state': 'nevada',\n",
      "                           'street': '7919 marsh ln',\n",
      "                           'timezone': {'description': 'Brussels, Copenhagen, '\n",
      "                                                       'Madrid, Paris',\n",
      "                                        'offset': '+1:00'}},\n",
      "              'login': {'md5': '57fb60e47a3f3c55116b164e582c409b',\n",
      "                        'password': 'canada',\n",
      "                        'salt': 'Up7X30s5',\n",
      "                        'sha1': '309bcd83ec7532bb9496bb2f51c1a87985d908fd',\n",
      "                        'sha256': 'b47f9da6ffcfc1e2d6fcee2b8a0df9a13e7429f7997a8d4944fd36beeee50c8f',\n",
      "                        'username': 'crazyswan716',\n",
      "                        'uuid': '87c6edaf-b382-45a2-b41e-fd70b0ee0458'},\n",
      "              'name': {'first': 'angel', 'last': 'butler', 'title': 'mr'},\n",
      "              'nat': 'US',\n",
      "              'phone': '(415)-102-1468',\n",
      "              'picture': {'large': 'https://randomuser.me/api/portraits/men/73.jpg',\n",
      "                          'medium': 'https://randomuser.me/api/portraits/med/men/73.jpg',\n",
      "                          'thumbnail': 'https://randomuser.me/api/portraits/thumb/men/73.jpg'},\n",
      "              'registered': {'age': 9, 'date': '2009-05-17T12:00:50Z'}},\n",
      "             {'cell': '(803)-597-9452',\n",
      "              'dob': {'age': 70, 'date': '1948-10-14T17:47:28Z'},\n",
      "              'email': 'wade.webb@example.com',\n",
      "              'gender': 'male',\n",
      "              'id': {'name': 'SSN', 'value': '178-64-9266'},\n",
      "              'location': {'city': 'santa clarita',\n",
      "                           'coordinates': {'latitude': '35.0289',\n",
      "                                           'longitude': '-60.2385'},\n",
      "                           'postcode': 72254,\n",
      "                           'state': 'wyoming',\n",
      "                           'street': '9565 wycliff ave',\n",
      "                           'timezone': {'description': 'Brussels, Copenhagen, '\n",
      "                                                       'Madrid, Paris',\n",
      "                                        'offset': '+1:00'}},\n",
      "              'login': {'md5': '23541a68605b82d26366a10a25a9c4b0',\n",
      "                        'password': 'nipper',\n",
      "                        'salt': 'mQVC0mSq',\n",
      "                        'sha1': '40074b01cb4bbe68471a79fff64f3b2b71c72963',\n",
      "                        'sha256': '3f3aaec8cbda881483f31b7035f190ed84ed91f16b738f05b0902bc604e9f51e',\n",
      "                        'username': 'purpleduck977',\n",
      "                        'uuid': 'f358e3ff-488f-4800-ae20-c1dfd78017c7'},\n",
      "              'name': {'first': 'wade', 'last': 'webb', 'title': 'mr'},\n",
      "              'nat': 'US',\n",
      "              'phone': '(301)-841-6144',\n",
      "              'picture': {'large': 'https://randomuser.me/api/portraits/men/98.jpg',\n",
      "                          'medium': 'https://randomuser.me/api/portraits/med/men/98.jpg',\n",
      "                          'thumbnail': 'https://randomuser.me/api/portraits/thumb/men/98.jpg'},\n",
      "              'registered': {'age': 16, 'date': '2002-11-27T07:49:16Z'}},\n",
      "             {'cell': '(736)-983-2037',\n",
      "              'dob': {'age': 39, 'date': '1979-08-04T18:36:00Z'},\n",
      "              'email': 'gene.rivera@example.com',\n",
      "              'gender': 'male',\n",
      "              'id': {'name': 'SSN', 'value': '427-78-2824'},\n",
      "              'location': {'city': 'topeka',\n",
      "                           'coordinates': {'latitude': '0.2535',\n",
      "                                           'longitude': '15.7116'},\n",
      "                           'postcode': 82811,\n",
      "                           'state': 'north carolina',\n",
      "                           'street': '6866 miller ave',\n",
      "                           'timezone': {'description': 'Pacific Time (US & '\n",
      "                                                       'Canada)',\n",
      "                                        'offset': '-8:00'}},\n",
      "              'login': {'md5': 'b652dce0f18d9110f00f69e50338da7a',\n",
      "                        'password': 'nguyen',\n",
      "                        'salt': 'pUhI02Qa',\n",
      "                        'sha1': '5316a895fb0a03012bfeec6b2c51dcc50b9ecb4b',\n",
      "                        'sha256': 'a1e13c59fea9c13806d16d13d83774295dfd7765cc46dba0cc843cc781ccee6e',\n",
      "                        'username': 'smallcat601',\n",
      "                        'uuid': '6c3fcef4-e34d-4ac7-b638-113279da6b6a'},\n",
      "              'name': {'first': 'gene', 'last': 'rivera', 'title': 'mr'},\n",
      "              'nat': 'US',\n",
      "              'phone': '(975)-964-1641',\n",
      "              'picture': {'large': 'https://randomuser.me/api/portraits/men/37.jpg',\n",
      "                          'medium': 'https://randomuser.me/api/portraits/med/men/37.jpg',\n",
      "                          'thumbnail': 'https://randomuser.me/api/portraits/thumb/men/37.jpg'},\n",
      "              'registered': {'age': 11, 'date': '2008-04-17T12:27:08Z'}},\n",
      "             {'cell': '(354)-685-9669',\n",
      "              'dob': {'age': 26, 'date': '1993-03-13T06:04:27Z'},\n",
      "              'email': 'douglas.douglas@example.com',\n",
      "              'gender': 'male',\n",
      "              'id': {'name': 'SSN', 'value': '691-66-1858'},\n",
      "              'location': {'city': 'huntington beach',\n",
      "                           'coordinates': {'latitude': '52.4707',\n",
      "                                           'longitude': '141.3893'},\n",
      "                           'postcode': 50573,\n",
      "                           'state': 'wyoming',\n",
      "                           'street': '7133 wheeler ridge dr',\n",
      "                           'timezone': {'description': 'Eniwetok, Kwajalein',\n",
      "                                        'offset': '-12:00'}},\n",
      "              'login': {'md5': '1fb41c4e9f9cd7c2db574690efc954e4',\n",
      "                        'password': 'vikings1',\n",
      "                        'salt': 'GoN9t6BX',\n",
      "                        'sha1': '0a0aeedec6b73166e0eb17693c10f3e10bc229ae',\n",
      "                        'sha256': '447efd5b393c047f237fd84ff8fe65fd2fa802ff485660908600e8a49e1fbc8a',\n",
      "                        'username': 'lazydog500',\n",
      "                        'uuid': '5e532928-58ce-45ff-bffc-fb3bc7f3b4aa'},\n",
      "              'name': {'first': 'douglas', 'last': 'douglas', 'title': 'mr'},\n",
      "              'nat': 'US',\n",
      "              'phone': '(600)-620-3702',\n",
      "              'picture': {'large': 'https://randomuser.me/api/portraits/men/87.jpg',\n",
      "                          'medium': 'https://randomuser.me/api/portraits/med/men/87.jpg',\n",
      "                          'thumbnail': 'https://randomuser.me/api/portraits/thumb/men/87.jpg'},\n",
      "              'registered': {'age': 13, 'date': '2006-01-19T07:42:07Z'}},\n",
      "             {'cell': '(029)-310-6647',\n",
      "              'dob': {'age': 54, 'date': '1964-11-17T23:32:26Z'},\n",
      "              'email': 'brent.garrett@example.com',\n",
      "              'gender': 'male',\n",
      "              'id': {'name': 'SSN', 'value': '778-53-1700'},\n",
      "              'location': {'city': 'forney',\n",
      "                           'coordinates': {'latitude': '-52.2214',\n",
      "                                           'longitude': '171.0340'},\n",
      "                           'postcode': 78037,\n",
      "                           'state': 'florida',\n",
      "                           'street': '1787 washington ave',\n",
      "                           'timezone': {'description': 'Tehran',\n",
      "                                        'offset': '+3:30'}},\n",
      "              'login': {'md5': '80e50b7c97363211348ec3ee8ebd3805',\n",
      "                        'password': 'lback',\n",
      "                        'salt': 'C1aE2kNo',\n",
      "                        'sha1': '71eb40ce9b155fae114179bd2bc97188ffe2dd69',\n",
      "                        'sha256': '71110c2ece11c37d0dd81c9aeee6890d8fc42814a332f22ebad9e11104c08ed1',\n",
      "                        'username': 'heavyelephant754',\n",
      "                        'uuid': '10f511d6-2927-46d1-99fc-e6842cdb7f3a'},\n",
      "              'name': {'first': 'brent', 'last': 'garrett', 'title': 'mr'},\n",
      "              'nat': 'US',\n",
      "              'phone': '(588)-388-6992',\n",
      "              'picture': {'large': 'https://randomuser.me/api/portraits/men/18.jpg',\n",
      "                          'medium': 'https://randomuser.me/api/portraits/med/men/18.jpg',\n",
      "                          'thumbnail': 'https://randomuser.me/api/portraits/thumb/men/18.jpg'},\n",
      "              'registered': {'age': 12, 'date': '2006-04-28T13:46:07Z'}},\n",
      "             {'cell': '(655)-560-7401',\n",
      "              'dob': {'age': 55, 'date': '1963-09-18T18:09:04Z'},\n",
      "              'email': 'virgil.gregory@example.com',\n",
      "              'gender': 'male',\n",
      "              'id': {'name': 'SSN', 'value': '023-58-6178'},\n",
      "              'location': {'city': 'rockford',\n",
      "                           'coordinates': {'latitude': '19.9994',\n",
      "                                           'longitude': '-134.7150'},\n",
      "                           'postcode': 10731,\n",
      "                           'state': 'north carolina',\n",
      "                           'street': '3080 cackson st',\n",
      "                           'timezone': {'description': 'Hawaii',\n",
      "                                        'offset': '-10:00'}},\n",
      "              'login': {'md5': '237f7c8a1b46110ce4b1cc2aa01dd387',\n",
      "                        'password': '1028',\n",
      "                        'salt': 'YnppMbAx',\n",
      "                        'sha1': '6bcc2ca0d99e35a46ce04133cb85a6edadb2095d',\n",
      "                        'sha256': '643bac66d07a78330aac599fd72f034fc9a846802e821dfab5b50428d01541cc',\n",
      "                        'username': 'lazypeacock644',\n",
      "                        'uuid': '5c2a8eac-4c18-4fda-8ac2-8a55fb9fa62a'},\n",
      "              'name': {'first': 'virgil', 'last': 'gregory', 'title': 'mr'},\n",
      "              'nat': 'US',\n",
      "              'phone': '(510)-694-9413',\n",
      "              'picture': {'large': 'https://randomuser.me/api/portraits/men/51.jpg',\n",
      "                          'medium': 'https://randomuser.me/api/portraits/med/men/51.jpg',\n",
      "                          'thumbnail': 'https://randomuser.me/api/portraits/thumb/men/51.jpg'},\n",
      "              'registered': {'age': 7, 'date': '2012-03-29T02:33:43Z'}},\n",
      "             {'cell': '(878)-723-6052',\n",
      "              'dob': {'age': 70, 'date': '1948-11-05T18:53:56Z'},\n",
      "              'email': 'tomothy.barnett@example.com',\n",
      "              'gender': 'male',\n",
      "              'id': {'name': 'SSN', 'value': '618-48-3092'},\n",
      "              'location': {'city': 'waco',\n",
      "                           'coordinates': {'latitude': '-14.6074',\n",
      "                                           'longitude': '-113.3947'},\n",
      "                           'postcode': 34558,\n",
      "                           'state': 'new york',\n",
      "                           'street': '5178 marsh ln',\n",
      "                           'timezone': {'description': 'Azores, Cape Verde '\n",
      "                                                       'Islands',\n",
      "                                        'offset': '-1:00'}},\n",
      "              'login': {'md5': '718883d1ec7eb2d958f9480e6e5a1613',\n",
      "                        'password': 'bdsm',\n",
      "                        'salt': 'gt1Vneau',\n",
      "                        'sha1': '195cb257b6548aad50e7141742b99eb86b67fee8',\n",
      "                        'sha256': 'a277c7351a52c2bb796a8480d1a6d159416edfdee0f64cfb11280c6208f1c985',\n",
      "                        'username': 'brownostrich728',\n",
      "                        'uuid': 'c6bee431-5b63-4cbd-bd36-b430bf6f783a'},\n",
      "              'name': {'first': 'tomothy', 'last': 'barnett', 'title': 'mr'},\n",
      "              'nat': 'US',\n",
      "              'phone': '(116)-702-0602',\n",
      "              'picture': {'large': 'https://randomuser.me/api/portraits/men/23.jpg',\n",
      "                          'medium': 'https://randomuser.me/api/portraits/med/men/23.jpg',\n",
      "                          'thumbnail': 'https://randomuser.me/api/portraits/thumb/men/23.jpg'},\n",
      "              'registered': {'age': 5, 'date': '2013-09-13T10:15:57Z'}}]}\n"
     ]
    }
   ],
   "source": [
    "from pprint import pprint\n",
    "pprint(data)"
   ]
  },
  {
   "cell_type": "markdown",
   "metadata": {},
   "source": [
    "* Loop through the dictionary and print all first names"
   ]
  },
  {
   "cell_type": "code",
   "execution_count": 64,
   "metadata": {
    "collapsed": true
   },
   "outputs": [
    {
     "name": "stdout",
     "output_type": "stream",
     "text": [
      "duane\n",
      "kurt\n",
      "martin\n",
      "angel\n",
      "wade\n",
      "gene\n",
      "douglas\n",
      "brent\n",
      "virgil\n",
      "tomothy\n"
     ]
    }
   ],
   "source": [
    "for k in data['results']:\n",
    "    print(k['name']['first'])"
   ]
  },
  {
   "cell_type": "markdown",
   "metadata": {},
   "source": [
    "* Get all astronauts who are right now in space. You get the information about the Web APU from here  http://open-notify.org/Open-Notify-API/People-In-Space/ "
   ]
  },
  {
   "cell_type": "code",
   "execution_count": 40,
   "metadata": {
    "collapsed": true
   },
   "outputs": [
    {
     "data": {
      "text/plain": [
       "'{\"message\": \"success\", \"number\": 6, \"people\": [{\"craft\": \"ISS\", \"name\": \"Oleg Kononenko\"}, {\"craft\": \"ISS\", \"name\": \"David Saint-Jacques\"}, {\"craft\": \"ISS\", \"name\": \"Anne McClain\"}, {\"craft\": \"ISS\", \"name\": \"Alexey Ovchinin\"}, {\"craft\": \"ISS\", \"name\": \"Nick Hague\"}, {\"craft\": \"ISS\", \"name\": \"Christina Koch\"}]}'"
      ]
     },
     "execution_count": 40,
     "metadata": {},
     "output_type": "execute_result"
    }
   ],
   "source": [
    "response2 = requests.get(\"http://api.open-notify.org/astros.json\")\n",
    "response2.text"
   ]
  },
  {
   "cell_type": "markdown",
   "metadata": {},
   "source": [
    "* Print the number of people that are right now in space"
   ]
  },
  {
   "cell_type": "code",
   "execution_count": 47,
   "metadata": {
    "collapsed": true
   },
   "outputs": [
    {
     "name": "stdout",
     "output_type": "stream",
     "text": [
      "6\n"
     ]
    }
   ],
   "source": [
    "data2 = json.loads(response2.text)\n",
    "print(data2['number'])"
   ]
  },
  {
   "cell_type": "markdown",
   "metadata": {},
   "source": [
    "* Print the names of all astronauts "
   ]
  },
  {
   "cell_type": "code",
   "execution_count": 66,
   "metadata": {
    "collapsed": true
   },
   "outputs": [
    {
     "name": "stdout",
     "output_type": "stream",
     "text": [
      "Oleg Kononenko\n",
      "David Saint-Jacques\n",
      "Anne McClain\n",
      "Alexey Ovchinin\n",
      "Nick Hague\n",
      "Christina Koch\n"
     ]
    }
   ],
   "source": [
    "for k in data2['people']:\n",
    "    print(k['name'])"
   ]
  },
  {
   "cell_type": "markdown",
   "metadata": {},
   "source": [
    "* A lot of Web APIs require a api-key for interacting with them (like Twitter, Facebook, …). You find at http://www.python-requests.org/en/latest/user/authentication/ more information for Authentication for Web APIs with the request package\n",
    "* There are also special Python packages for interacting with services. E.g. for Twitter: http://www.tweepy.org/ or  https://github.com/bear/python-twitter \n",
    "\n",
    "See e.g. http://socialmedia-class.org/twittertutorial.html for a tutorial"
   ]
  },
  {
   "cell_type": "markdown",
   "metadata": {},
   "source": [
    "## 2. Creating a Web API\n",
    "\n",
    "* Create a folder `webapi` and change into it.\n",
    "* Create in the `webapi` folder a file with the name `Dockerfile` with the following content:\n",
    "\n",
    "----\n",
    "```bash\n",
    "# Use an official Python runtime as a parent image\n",
    "FROM python:3.7-slim\n",
    "\n",
    "# Set the working directory to /app\n",
    "WORKDIR /app\n",
    "\n",
    "# Copy the current directory contents into the container at /app\n",
    "COPY app/ /app\n",
    "\n",
    "# Install any needed packages specified in requirements.txt\n",
    "RUN pip install --trusted-host pypi.python.org -r requirements.txt\n",
    "\n",
    "# Make port 80 available to the world outside this container\n",
    "EXPOSE 80\n",
    "\n",
    "# Run app.py when the container launches\n",
    "CMD [\"python\", \"app.py\"]\n",
    "```\n",
    "\n",
    "-----\n",
    "\n",
    "* We can also use Docker compose with just one service. Create in your `webapi` folder a `docker-compose.yml` file:\n",
    "\n",
    "-----\n",
    "\n",
    "```yaml\n",
    "version: '3'\n",
    "services:\n",
    "  api:\n",
    "    build: .\n",
    "    ports:\n",
    "      - \"5000:80\"\n",
    "    restart: always\n",
    "    volumes:\n",
    "      - ./app:/app\n",
    "```\n",
    "-----\n",
    "\n",
    "* Create a folder in the `webapi` folder a new folder with the name `app`\n",
    "* We will build a web API with `Flask` (http://flask.pocoo.org/) . Create a `requirements.txt` file in the `app` folder. Here we can specify all python `pip` packages that we need:\n",
    "\n",
    "-----\n",
    "```bash\n",
    "Flask\n",
    "```\n",
    "-----\n",
    "\n",
    "* Create the `app.py` file in the `app` folder:\n",
    "\n",
    "-----\n",
    "```python\n",
    "from flask import Flask\n",
    "from flask import request, jsonify\n",
    "\n",
    "app = Flask(__name__)\n",
    "\n",
    "courses = [\n",
    "    {'id': 0,\n",
    "     'title': 'Data Science',\n",
    "     'professor': 'Markus Löcher',\n",
    "     'semester': '1'},\n",
    "    {'id': 1,\n",
    "     'title': 'Data Warehousing',\n",
    "     'professor': 'Roland M. Mueller',\n",
    "     'semester': '1'},\n",
    "    {'id': 2,\n",
    "     'title': 'Business Process Management',\n",
    "     'professor': 'Frank Habermann',\n",
    "     'semester': '1'},\n",
    "    {'id': 3,\n",
    "     'title': 'Stratigic Issues of IT',\n",
    "     'professor': 'Sven Pohland',\n",
    "     'semester': '1'},\n",
    "    {'id': 4,\n",
    "     'title': 'Text, Web and Social Media Analytics Lab',\n",
    "     'professor': 'Markus Löcher',\n",
    "     'semester': '2'},\n",
    "    {'id': 5,\n",
    "     'title': 'Enterprise Architectures for Big Data',\n",
    "     'professor': 'Roland M. Mueller',\n",
    "     'semester': '2'},\n",
    "    {'id': 6,\n",
    "     'title': 'Business Process Integration Lab',\n",
    "     'professor': 'Frank Habermann',\n",
    "     'semester': '2'},\n",
    "    {'id': 7,\n",
    "     'title': 'IT-Security and Privacy',\n",
    "     'professor': 'Dennis Uckel',\n",
    "     'semester': '2'},\n",
    "    {'id': 8,\n",
    "     'title': 'Research Methods',\n",
    "     'professor': 'Marcus Birkenkrahe',\n",
    "     'semester': '2'},\n",
    "]\n",
    "\n",
    "@app.route('/api/v1/courses/all', methods=['GET'])\n",
    "def api_all():\n",
    "    return jsonify(courses)\n",
    "\n",
    "@app.route('/api/v1/courses', methods=['GET'])\n",
    "def api_id():\n",
    "    # Check if an ID was provided as part of the URL.\n",
    "    # If ID is provided, assign it to a variable.\n",
    "    # If no ID is provided, display an error in the browser.\n",
    "    if 'id' in request.args:\n",
    "        id = int(request.args['id'])\n",
    "    else:\n",
    "        return \"Error: No id field provided. Please specify an id.\"\n",
    "\n",
    "    # Create an empty list for our results\n",
    "    results = []\n",
    "\n",
    "    # Loop through the data and match results that fit the requested ID.\n",
    "    # IDs are unique, but other fields might return many results\n",
    "    for course in courses:\n",
    "        if course['id'] == id:\n",
    "            results.append(course)\n",
    "\n",
    "    # Use the jsonify function from Flask to convert our list of\n",
    "    # Python dictionaries to the JSON format.\n",
    "    return jsonify(results)\n",
    "\n",
    "if __name__ == \"__main__\":\n",
    "    app.run(host=\"0.0.0.0\", port=80, debug=True)\n",
    "```\n",
    "-----\n",
    "* Open http://localhost:5000/api/v1/courses/all in a browser\n",
    "* Open http://localhost:5000/api/v1/courses?id=5 in a browser\n"
   ]
  },
  {
   "cell_type": "markdown",
   "metadata": {},
   "source": [
    "* Use your own API here in the Jupyter Notebook with Python and print all names of all courses "
   ]
  },
  {
   "cell_type": "code",
   "execution_count": 71,
   "metadata": {
    "collapsed": true
   },
   "outputs": [
    {
     "name": "stdout",
     "output_type": "stream",
     "text": [
      "Data Science\n",
      "Data Warehousing\n",
      "Business Process Management\n",
      "Stratigic Issues of IT\n",
      "Text, Web and Social Media Analytics Lab\n",
      "Enterprise Architectures for Big Data\n",
      "Business Process Integration Lab\n",
      "IT-Security and Privacy\n",
      "Research Methods\n"
     ]
    }
   ],
   "source": [
    "respo = requests.get(\"http://localhost:5000/api/v1/courses/all\")\n",
    "mydata = json.loads(respo.text)\n",
    "#pprint(mydata)\n",
    "for k in mydata:\n",
    "    print(k['title'])"
   ]
  },
  {
   "cell_type": "markdown",
   "metadata": {},
   "source": [
    "* Add the possibility to find courses based on the semester\n",
    "* Use your API in Python and print all names of all courses in the second semester"
   ]
  },
  {
   "cell_type": "code",
   "execution_count": 88,
   "metadata": {},
   "outputs": [
    {
     "name": "stdout",
     "output_type": "stream",
     "text": [
      "Text, Web and Social Media Analytics Lab\n",
      "Enterprise Architectures for Big Data\n",
      "Business Process Integration Lab\n",
      "IT-Security and Privacy\n",
      "Research Methods\n"
     ]
    }
   ],
   "source": [
    "respo2 = requests.get(\"http://localhost:5000/api/v1/courses/semester?semester=2\")\n",
    "mydata2 = json.loads(respo2.text)\n",
    "#pprint(mydata2)\n",
    "for k in mydata2:\n",
    "    print(k['title'])"
   ]
  },
  {
   "cell_type": "markdown",
   "metadata": {},
   "source": [
    "* Add a function that can convert Fahrenheit to Celsius \n",
    "* Call your API and get the Celsius value for 100°F Fahrenheit"
   ]
  },
  {
   "cell_type": "code",
   "execution_count": 90,
   "metadata": {
    "collapsed": true
   },
   "outputs": [
    {
     "name": "stdout",
     "output_type": "stream",
     "text": [
      "\"100.0 degrees Fahrenheit are 37.77777777777778 degrees Celsius.\"\n",
      "\n"
     ]
    }
   ],
   "source": [
    "respo3 = requests.get(\"http://localhost:5000/api/v1/converter?fahrenheit=100\")\n",
    "print(respo3.text)"
   ]
  }
 ],
 "metadata": {
  "kernelspec": {
   "display_name": "Python 3",
   "language": "python",
   "name": "python3"
  },
  "language_info": {
   "codemirror_mode": {
    "name": "ipython",
    "version": 3
   },
   "file_extension": ".py",
   "mimetype": "text/x-python",
   "name": "python",
   "nbconvert_exporter": "python",
   "pygments_lexer": "ipython3",
   "version": "3.7.1"
  },
  "varInspector": {
   "cols": {
    "lenName": 16,
    "lenType": 16,
    "lenVar": 40
   },
   "kernels_config": {
    "python": {
     "delete_cmd_postfix": "",
     "delete_cmd_prefix": "del ",
     "library": "var_list.py",
     "varRefreshCmd": "print(var_dic_list())"
    },
    "r": {
     "delete_cmd_postfix": ") ",
     "delete_cmd_prefix": "rm(",
     "library": "var_list.r",
     "varRefreshCmd": "cat(var_dic_list()) "
    }
   },
   "types_to_exclude": [
    "module",
    "function",
    "builtin_function_or_method",
    "instance",
    "_Feature"
   ],
   "window_display": false
  }
 },
 "nbformat": 4,
 "nbformat_minor": 2
}
